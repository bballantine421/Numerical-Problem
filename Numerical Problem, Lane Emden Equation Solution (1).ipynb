{
 "cells": [
  {
   "cell_type": "markdown",
   "id": "c56fc1ba",
   "metadata": {},
   "source": [
    "# Lane Emden Equation\n",
    "\n",
    "$\\frac{d}{d\\xi}(\\xi^2\\frac{d\\theta}{d\\xi})=-\\xi^2\\theta^n$\n",
    "\n",
    "##### Substitute variables:\n",
    "\n",
    "x = $\\xi$\n",
    "\n",
    "y = $\\theta$\n",
    "\n",
    "z = $\\frac{d\\theta}{d\\xi}$\n",
    "\n",
    "##### thus the equation becomes\n",
    "\n",
    "$\\frac{d}{dx}(x^2\\frac{dy}{dx})=-x^2y^n$\n",
    "\n",
    "##### Expanding the equation we get\n",
    "\n",
    "$x^2\\frac{d^2y}{dx^2}+2x\\frac{dy}{dx}+x^2y^n=0$\n",
    "\n",
    "##### We write this as two first order equations by setting \n",
    "$z=\\frac{dy}{dx}$\n",
    "\n",
    "##### The two equations become\n",
    "\n",
    "$\\frac{dy}{dx}=z$\n",
    "\n",
    "$\\frac{dz}{dx}=-\\frac{1}{x^2}(2xz+x^2y^n)$"
   ]
  },
  {
   "cell_type": "markdown",
   "id": "8be776d4",
   "metadata": {},
   "source": [
    "### I'm pretty sure the first cell is a correct step in the right direction, but I get confused in the code for graphing it. I've searched online trying to find a code that makes sense and I can attempt to replicate, none of them seem to work. "
   ]
  },
  {
   "cell_type": "code",
   "execution_count": 22,
   "id": "1612555b",
   "metadata": {},
   "outputs": [
    {
     "ename": "TypeError",
     "evalue": "list indices must be integers or slices, not float",
     "output_type": "error",
     "traceback": [
      "\u001b[1;31m---------------------------------------------------------------------------\u001b[0m",
      "\u001b[1;31mTypeError\u001b[0m                                 Traceback (most recent call last)",
      "Input \u001b[1;32mIn [22]\u001b[0m, in \u001b[0;36m<cell line: 20>\u001b[1;34m()\u001b[0m\n\u001b[0;32m     18\u001b[0m Xi \u001b[38;5;241m=\u001b[39m [[],[]]\n\u001b[0;32m     20\u001b[0m \u001b[38;5;28;01mfor\u001b[39;00m i \u001b[38;5;129;01min\u001b[39;00m n:\n\u001b[1;32m---> 21\u001b[0m     \u001b[43mTheta\u001b[49m\u001b[43m[\u001b[49m\u001b[43mi\u001b[49m\u001b[43m]\u001b[49m\u001b[38;5;241m.\u001b[39mappend(theta)\n\u001b[0;32m     22\u001b[0m     Phi[i]\u001b[38;5;241m.\u001b[39mappend(phi)\n\u001b[0;32m     23\u001b[0m     Xi[i]\u001b[38;5;241m.\u001b[39mappend(xi)\n",
      "\u001b[1;31mTypeError\u001b[0m: list indices must be integers or slices, not float"
     ]
    }
   ],
   "source": [
    "import numpy as np\n",
    "import matplotlib.pyplot as plt\n",
    "\n",
    "n = [1.5,3]\n",
    "\n",
    "theta0 = 1\n",
    "phi0 = 0\n",
    "step = 0.01\n",
    "xi0 = 0\n",
    "xi_max = 100\n",
    "\n",
    "theta = theta0\n",
    "phi = phi0\n",
    "xi = xi0 + step\n",
    "\n",
    "Theta = [[],[]]\n",
    "Phi = [[],[]]\n",
    "Xi = [[],[]]\n",
    "\n",
    "for i in n:\n",
    "    Theta[i].append(theta)\n",
    "    Phi[i].append(phi)\n",
    "    Xi[i].append(xi)\n",
    "    \n",
    "    \n",
    "for i in n: \n",
    "    while xi < xi_max:\n",
    "        if theta < 0:\n",
    "            break\n",
    "        dTheta = (step/6)*(dTheta_dXi(phi,xi)+2*r2(phi,xi)+2*r3(phi,xi)+r4(phi,xi))\n",
    "        dPhi = (step/6)*(dPhi_dXi(theta,xi,i/2.)+2*k2(theta,xi,n)+2*k3(theta,xi,n)+k4(theta,xi,n))\n",
    "        theta += dTheta\n",
    "        phi += dPhi\n",
    "        xi += step\n",
    "        Theta[i].append(theta)\n",
    "        Phi[i].append(phi)\n",
    "        Xi[i].append(xi)\n",
    "print (i/2)\n",
    "theta = theta0\n",
    "phi = phi0\n",
    "xi = xi0 + step"
   ]
  },
  {
   "cell_type": "code",
   "execution_count": 34,
   "id": "cfcb30d3",
   "metadata": {},
   "outputs": [
    {
     "name": "stdout",
     "output_type": "stream",
     "text": [
      "Using matplotlib backend: <object object at 0x000002D50B2B3880>\n"
     ]
    }
   ],
   "source": [
    "%matplotlib\n",
    "import seaborn as sns\n",
    "sns.set_palette(\"magma\",8)"
   ]
  },
  {
   "cell_type": "code",
   "execution_count": 7,
   "id": "40a7184d",
   "metadata": {},
   "outputs": [
    {
     "ename": "TypeError",
     "evalue": "plot() takes 1 positional argument but 3 were given",
     "output_type": "error",
     "traceback": [
      "\u001b[1;31m---------------------------------------------------------------------------\u001b[0m",
      "\u001b[1;31mTypeError\u001b[0m                                 Traceback (most recent call last)",
      "Input \u001b[1;32mIn [7]\u001b[0m, in \u001b[0;36m<cell line: 17>\u001b[1;34m()\u001b[0m\n\u001b[0;32m     14\u001b[0m         theta_sol\u001b[38;5;241m.\u001b[39mappend(theta)\n\u001b[0;32m     15\u001b[0m         xi_sol\u001b[38;5;241m.\u001b[39mappend(xi)\n\u001b[1;32m---> 17\u001b[0m fig \u001b[38;5;241m=\u001b[39m \u001b[43mp\u001b[49m\u001b[38;5;241;43m.\u001b[39;49m\u001b[43mplot\u001b[49m\u001b[43m(\u001b[49m\u001b[43mxi_sol\u001b[49m\u001b[43m,\u001b[49m\u001b[43mtheta_sol\u001b[49m\u001b[43m)\u001b[49m\n\u001b[0;32m     19\u001b[0m xlim(\u001b[38;5;241m0\u001b[39m,\u001b[38;5;241m10\u001b[39m)\n\u001b[0;32m     20\u001b[0m ylim(\u001b[38;5;241m-\u001b[39m\u001b[38;5;241m1\u001b[39m,\u001b[38;5;241m1\u001b[39m)\n",
      "\u001b[1;31mTypeError\u001b[0m: plot() takes 1 positional argument but 3 were given"
     ]
    }
   ],
   "source": [
    "dxi = 0.01\n",
    "N = 1000\n",
    "\n",
    "for n in range (8):\n",
    "    xi=0.01\n",
    "    theta=1.0\n",
    "    f1=0.0\n",
    "    theta_sol = []\n",
    "    xi_sol = []\n",
    "    for i in range (N):\n",
    "        f1 += -xi**2*theta**(n)*dxi\n",
    "        theta += f1/xi**2*dxi\n",
    "        xi += dxi\n",
    "        theta_sol.append(theta)\n",
    "        xi_sol.append(xi)\n",
    "    \n",
    "fig = p.plot(xi_sol,theta_sol)\n",
    "\n",
    "xlim(0,10)\n",
    "ylim(-1,1)\n",
    "axhline(y=0.0,c=\"black\")\n",
    "show()"
   ]
  },
  {
   "cell_type": "markdown",
   "id": "24ff8936",
   "metadata": {},
   "source": [
    "## After lots of trial, error, and research, I think I figured out a solution that works below. "
   ]
  },
  {
   "cell_type": "code",
   "execution_count": 1,
   "id": "1616b3e2",
   "metadata": {},
   "outputs": [
    {
     "data": {
      "image/png": "[encoded data removed]",
      "text/plain": [
       "<Figure size 432x288 with 1 Axes>"
      ]
     },
     "metadata": {
      "needs_background": "light"
     },
     "output_type": "display_data"
    }
   ],
   "source": [
    "import numpy as np\n",
    "import matplotlib.pyplot as plt\n",
    "\n",
    "# Constants and initial conditions\n",
    "n_values = [1.5, 3]\n",
    "G = 1.0  # Gravitational constant\n",
    "n_steps = 1000  # Number of integration steps\n",
    "r_max = 10.0  # Maximum radius\n",
    "dr = r_max / n_steps  # Step size\n",
    "rho_0 = 1.0  # Initial density at r=0\n",
    "\n",
    "# Initialize arrays to store results\n",
    "r_values = np.linspace(1, r_max, n_steps)\n",
    "rho_profiles = {}\n",
    "\n",
    "# Euler method integration function\n",
    "def euler_integration(n):\n",
    "    rho = np.zeros(n_steps)\n",
    "    rho[0] = rho_0\n",
    "\n",
    "    for i in range(1, n_steps):\n",
    "        rho[i] = rho[i - 1] + dr * ((n + 1) * rho[i - 1] / r_values[i - 1] - rho[i - 1] ** (n + 1))\n",
    "    \n",
    "    return rho\n",
    "\n",
    "# Perform integration for each n value\n",
    "for n in n_values:\n",
    "    rho_profiles[n] = euler_integration(n)\n",
    "\n",
    "# Plot the density profiles\n",
    "plt.figure()\n",
    "for n in n_values:\n",
    "    plt.plot(r_values, rho_profiles[n], label=f'n = {n}')\n",
    "plt.xlabel('Radius')\n",
    "plt.ylabel('Density')\n",
    "plt.title('Density Profile for Polytropes')\n",
    "plt.legend()\n",
    "plt.grid()\n",
    "plt.show()"
   ]
  },
  {
   "cell_type": "code",
   "execution_count": 2,
   "id": "9dc250a1",
   "metadata": {},
   "outputs": [
    {
     "data": {
      "image/png": "[encoded data removed]",
      "text/plain": [
       "<Figure size 432x288 with 1 Axes>"
      ]
     },
     "metadata": {
      "needs_background": "light"
     },
     "output_type": "display_data"
    }
   ],
   "source": [
    "from scipy.special import jn  # Bessel function for n=0\n",
    "\n",
    "# Analytical solution for n=0 (Lane-Emden function)\n",
    "def lane_emden_solution(n, r_values):\n",
    "    if n == 0:\n",
    "        return jn(0, r_values)  # Bessel function of order 0\n",
    "    else:\n",
    "        return None\n",
    "\n",
    "# Plot the analytical solution for n=0\n",
    "n = 0\n",
    "analytical_solution = lane_emden_solution(n, r_values)\n",
    "\n",
    "plt.figure()\n",
    "plt.plot(r_values, analytical_solution, label=f'n = {n} (Analytical)')\n",
    "plt.xlabel('Radius')\n",
    "plt.ylabel('Density')\n",
    "plt.title('Analytical Solution for n = 0 Polytrope')\n",
    "plt.legend()\n",
    "plt.grid()\n",
    "plt.show()"
   ]
  },
  {
   "cell_type": "code",
   "execution_count": null,
   "id": "45fd813c",
   "metadata": {},
   "outputs": [],
   "source": []
  }
 ],
 "metadata": {
  "kernelspec": {
   "display_name": "Python 3 (ipykernel)",
   "language": "python",
   "name": "python3"
  },
  "language_info": {
   "codemirror_mode": {
    "name": "ipython",
    "version": 3
   },
   "file_extension": ".py",
   "mimetype": "text/x-python",
   "name": "python",
   "nbconvert_exporter": "python",
   "pygments_lexer": "ipython3",
   "version": "3.9.12"
  }
 },
 "nbformat": 4,
 "nbformat_minor": 5
}
